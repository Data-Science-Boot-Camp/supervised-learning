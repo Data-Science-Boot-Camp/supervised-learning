{
 "cells": [
  {
   "attachments": {},
   "cell_type": "markdown",
   "metadata": {},
   "source": [
    "## Linear Regression and typical workflow during the model development process:\n",
    "\n",
    "1. Data Preparation\n",
    "2. Model Selection\n",
    "3. Splitting the Data\n",
    "4. Model Training and Evaluation\n",
    "5. Cross-Validation\n",
    "6. Hyperparameter Tuning\n",
    "7. Final Model Evaluation\n"
   ]
  },
  {
   "cell_type": "code",
   "execution_count": 14,
   "metadata": {},
   "outputs": [],
   "source": [
    "from IPython.display import display, Markdown\n",
    "\n",
    "from sklearn.datasets import fetch_california_housing\n",
    "from sklearn.feature_selection import SelectKBest, f_regression\n",
    "from sklearn.linear_model import LinearRegression\n",
    "from sklearn.model_selection import cross_val_score\n",
    "from sklearn.model_selection import train_test_split\n",
    "from sklearn.model_selection import GridSearchCV\n",
    "import pandas as pd\n",
    "import seaborn as sns\n",
    "from sklearn.preprocessing import StandardScaler, MinMaxScaler\n",
    "from sklearn import preprocessing\n"
   ]
  },
  {
   "cell_type": "code",
   "execution_count": 15,
   "metadata": {},
   "outputs": [
    {
     "name": "stdout",
     "output_type": "stream",
     "text": [
      "The scikit-learn version is 1.2.2.\n"
     ]
    }
   ],
   "source": [
    "# print sklearn version\n",
    "import sklearn\n",
    "print('The scikit-learn version is {}.'.format(sklearn.__version__))"
   ]
  },
  {
   "cell_type": "code",
   "execution_count": 2,
   "metadata": {},
   "outputs": [],
   "source": [
    "# help(preprocessing)"
   ]
  },
  {
   "cell_type": "code",
   "execution_count": 3,
   "metadata": {},
   "outputs": [
    {
     "name": "stdout",
     "output_type": "stream",
     "text": [
      "/home/edgar/ds-ai-bootcamp/supervised-learning\n"
     ]
    },
    {
     "data": {
      "text/markdown": [
       ".. _california_housing_dataset:\n",
       "\n",
       "California Housing dataset\n",
       "--------------------------\n",
       "\n",
       "**Data Set Characteristics:**\n",
       "\n",
       "    :Number of Instances: 20640\n",
       "\n",
       "    :Number of Attributes: 8 numeric, predictive attributes and the target\n",
       "\n",
       "    :Attribute Information:\n",
       "        - MedInc        median income in block group\n",
       "        - HouseAge      median house age in block group\n",
       "        - AveRooms      average number of rooms per household\n",
       "        - AveBedrms     average number of bedrooms per household\n",
       "        - Population    block group population\n",
       "        - AveOccup      average number of household members\n",
       "        - Latitude      block group latitude\n",
       "        - Longitude     block group longitude\n",
       "\n",
       "    :Missing Attribute Values: None\n",
       "\n",
       "This dataset was obtained from the StatLib repository.\n",
       "https://www.dcc.fc.up.pt/~ltorgo/Regression/cal_housing.html\n",
       "\n",
       "The target variable is the median house value for California districts,\n",
       "expressed in hundreds of thousands of dollars ($100,000).\n",
       "\n",
       "This dataset was derived from the 1990 U.S. census, using one row per census\n",
       "block group. A block group is the smallest geographical unit for which the U.S.\n",
       "Census Bureau publishes sample data (a block group typically has a population\n",
       "of 600 to 3,000 people).\n",
       "\n",
       "A household is a group of people residing within a home. Since the average\n",
       "number of rooms and bedrooms in this dataset are provided per household, these\n",
       "columns may take surprisingly large values for block groups with few households\n",
       "and many empty houses, such as vacation resorts.\n",
       "\n",
       "It can be downloaded/loaded using the\n",
       ":func:`sklearn.datasets.fetch_california_housing` function.\n",
       "\n",
       ".. topic:: References\n",
       "\n",
       "    - Pace, R. Kelley and Ronald Barry, Sparse Spatial Autoregressions,\n",
       "      Statistics and Probability Letters, 33 (1997) 291-297\n"
      ],
      "text/plain": [
       "<IPython.core.display.Markdown object>"
      ]
     },
     "metadata": {},
     "output_type": "display_data"
    }
   ],
   "source": [
    "# Load california housing dataset\n",
    "!pwd\n",
    "data = fetch_california_housing(data_home=\"data/\")\n",
    "# Display the dataset description\n",
    "display(Markdown(data.DESCR))"
   ]
  },
  {
   "cell_type": "code",
   "execution_count": 4,
   "metadata": {},
   "outputs": [
    {
     "data": {
      "text/html": [
       "<div>\n",
       "<style scoped>\n",
       "    .dataframe tbody tr th:only-of-type {\n",
       "        vertical-align: middle;\n",
       "    }\n",
       "\n",
       "    .dataframe tbody tr th {\n",
       "        vertical-align: top;\n",
       "    }\n",
       "\n",
       "    .dataframe thead th {\n",
       "        text-align: right;\n",
       "    }\n",
       "</style>\n",
       "<table border=\"1\" class=\"dataframe\">\n",
       "  <thead>\n",
       "    <tr style=\"text-align: right;\">\n",
       "      <th></th>\n",
       "      <th>MedInc</th>\n",
       "      <th>HouseAge</th>\n",
       "      <th>AveRooms</th>\n",
       "      <th>AveBedrms</th>\n",
       "      <th>Population</th>\n",
       "      <th>AveOccup</th>\n",
       "      <th>Latitude</th>\n",
       "      <th>Longitude</th>\n",
       "      <th>target</th>\n",
       "    </tr>\n",
       "  </thead>\n",
       "  <tbody>\n",
       "    <tr>\n",
       "      <th>0</th>\n",
       "      <td>8.3252</td>\n",
       "      <td>41.0</td>\n",
       "      <td>6.984127</td>\n",
       "      <td>1.023810</td>\n",
       "      <td>322.0</td>\n",
       "      <td>2.555556</td>\n",
       "      <td>37.88</td>\n",
       "      <td>-122.23</td>\n",
       "      <td>4.526</td>\n",
       "    </tr>\n",
       "    <tr>\n",
       "      <th>1</th>\n",
       "      <td>8.3014</td>\n",
       "      <td>21.0</td>\n",
       "      <td>6.238137</td>\n",
       "      <td>0.971880</td>\n",
       "      <td>2401.0</td>\n",
       "      <td>2.109842</td>\n",
       "      <td>37.86</td>\n",
       "      <td>-122.22</td>\n",
       "      <td>3.585</td>\n",
       "    </tr>\n",
       "    <tr>\n",
       "      <th>2</th>\n",
       "      <td>7.2574</td>\n",
       "      <td>52.0</td>\n",
       "      <td>8.288136</td>\n",
       "      <td>1.073446</td>\n",
       "      <td>496.0</td>\n",
       "      <td>2.802260</td>\n",
       "      <td>37.85</td>\n",
       "      <td>-122.24</td>\n",
       "      <td>3.521</td>\n",
       "    </tr>\n",
       "    <tr>\n",
       "      <th>3</th>\n",
       "      <td>5.6431</td>\n",
       "      <td>52.0</td>\n",
       "      <td>5.817352</td>\n",
       "      <td>1.073059</td>\n",
       "      <td>558.0</td>\n",
       "      <td>2.547945</td>\n",
       "      <td>37.85</td>\n",
       "      <td>-122.25</td>\n",
       "      <td>3.413</td>\n",
       "    </tr>\n",
       "    <tr>\n",
       "      <th>4</th>\n",
       "      <td>3.8462</td>\n",
       "      <td>52.0</td>\n",
       "      <td>6.281853</td>\n",
       "      <td>1.081081</td>\n",
       "      <td>565.0</td>\n",
       "      <td>2.181467</td>\n",
       "      <td>37.85</td>\n",
       "      <td>-122.25</td>\n",
       "      <td>3.422</td>\n",
       "    </tr>\n",
       "  </tbody>\n",
       "</table>\n",
       "</div>"
      ],
      "text/plain": [
       "   MedInc  HouseAge  AveRooms  AveBedrms  Population  AveOccup  Latitude  \\\n",
       "0  8.3252      41.0  6.984127   1.023810       322.0  2.555556     37.88   \n",
       "1  8.3014      21.0  6.238137   0.971880      2401.0  2.109842     37.86   \n",
       "2  7.2574      52.0  8.288136   1.073446       496.0  2.802260     37.85   \n",
       "3  5.6431      52.0  5.817352   1.073059       558.0  2.547945     37.85   \n",
       "4  3.8462      52.0  6.281853   1.081081       565.0  2.181467     37.85   \n",
       "\n",
       "   Longitude  target  \n",
       "0    -122.23   4.526  \n",
       "1    -122.22   3.585  \n",
       "2    -122.24   3.521  \n",
       "3    -122.25   3.413  \n",
       "4    -122.25   3.422  "
      ]
     },
     "execution_count": 4,
     "metadata": {},
     "output_type": "execute_result"
    }
   ],
   "source": [
    "# get data in dataframe format\n",
    "df = pd.DataFrame(data.data, columns=data.feature_names)\n",
    "df['target'] = data.target\n",
    "df.head()"
   ]
  },
  {
   "cell_type": "code",
   "execution_count": 5,
   "metadata": {},
   "outputs": [
    {
     "data": {
      "text/html": [
       "<div>\n",
       "<style scoped>\n",
       "    .dataframe tbody tr th:only-of-type {\n",
       "        vertical-align: middle;\n",
       "    }\n",
       "\n",
       "    .dataframe tbody tr th {\n",
       "        vertical-align: top;\n",
       "    }\n",
       "\n",
       "    .dataframe thead th {\n",
       "        text-align: right;\n",
       "    }\n",
       "</style>\n",
       "<table border=\"1\" class=\"dataframe\">\n",
       "  <thead>\n",
       "    <tr style=\"text-align: right;\">\n",
       "      <th></th>\n",
       "      <th>MedInc</th>\n",
       "      <th>HouseAge</th>\n",
       "      <th>AveRooms</th>\n",
       "      <th>AveBedrms</th>\n",
       "      <th>Population</th>\n",
       "      <th>AveOccup</th>\n",
       "      <th>Latitude</th>\n",
       "      <th>Longitude</th>\n",
       "      <th>target</th>\n",
       "    </tr>\n",
       "  </thead>\n",
       "  <tbody>\n",
       "    <tr>\n",
       "      <th>count</th>\n",
       "      <td>20640.000000</td>\n",
       "      <td>20640.000000</td>\n",
       "      <td>20640.000000</td>\n",
       "      <td>20640.000000</td>\n",
       "      <td>20640.000000</td>\n",
       "      <td>20640.000000</td>\n",
       "      <td>20640.000000</td>\n",
       "      <td>20640.000000</td>\n",
       "      <td>20640.000000</td>\n",
       "    </tr>\n",
       "    <tr>\n",
       "      <th>mean</th>\n",
       "      <td>3.870671</td>\n",
       "      <td>28.639486</td>\n",
       "      <td>5.429000</td>\n",
       "      <td>1.096675</td>\n",
       "      <td>1425.476744</td>\n",
       "      <td>3.070655</td>\n",
       "      <td>35.631861</td>\n",
       "      <td>-119.569704</td>\n",
       "      <td>2.068558</td>\n",
       "    </tr>\n",
       "    <tr>\n",
       "      <th>std</th>\n",
       "      <td>1.899822</td>\n",
       "      <td>12.585558</td>\n",
       "      <td>2.474173</td>\n",
       "      <td>0.473911</td>\n",
       "      <td>1132.462122</td>\n",
       "      <td>10.386050</td>\n",
       "      <td>2.135952</td>\n",
       "      <td>2.003532</td>\n",
       "      <td>1.153956</td>\n",
       "    </tr>\n",
       "    <tr>\n",
       "      <th>min</th>\n",
       "      <td>0.499900</td>\n",
       "      <td>1.000000</td>\n",
       "      <td>0.846154</td>\n",
       "      <td>0.333333</td>\n",
       "      <td>3.000000</td>\n",
       "      <td>0.692308</td>\n",
       "      <td>32.540000</td>\n",
       "      <td>-124.350000</td>\n",
       "      <td>0.149990</td>\n",
       "    </tr>\n",
       "    <tr>\n",
       "      <th>25%</th>\n",
       "      <td>2.563400</td>\n",
       "      <td>18.000000</td>\n",
       "      <td>4.440716</td>\n",
       "      <td>1.006079</td>\n",
       "      <td>787.000000</td>\n",
       "      <td>2.429741</td>\n",
       "      <td>33.930000</td>\n",
       "      <td>-121.800000</td>\n",
       "      <td>1.196000</td>\n",
       "    </tr>\n",
       "    <tr>\n",
       "      <th>50%</th>\n",
       "      <td>3.534800</td>\n",
       "      <td>29.000000</td>\n",
       "      <td>5.229129</td>\n",
       "      <td>1.048780</td>\n",
       "      <td>1166.000000</td>\n",
       "      <td>2.818116</td>\n",
       "      <td>34.260000</td>\n",
       "      <td>-118.490000</td>\n",
       "      <td>1.797000</td>\n",
       "    </tr>\n",
       "    <tr>\n",
       "      <th>75%</th>\n",
       "      <td>4.743250</td>\n",
       "      <td>37.000000</td>\n",
       "      <td>6.052381</td>\n",
       "      <td>1.099526</td>\n",
       "      <td>1725.000000</td>\n",
       "      <td>3.282261</td>\n",
       "      <td>37.710000</td>\n",
       "      <td>-118.010000</td>\n",
       "      <td>2.647250</td>\n",
       "    </tr>\n",
       "    <tr>\n",
       "      <th>max</th>\n",
       "      <td>15.000100</td>\n",
       "      <td>52.000000</td>\n",
       "      <td>141.909091</td>\n",
       "      <td>34.066667</td>\n",
       "      <td>35682.000000</td>\n",
       "      <td>1243.333333</td>\n",
       "      <td>41.950000</td>\n",
       "      <td>-114.310000</td>\n",
       "      <td>5.000010</td>\n",
       "    </tr>\n",
       "  </tbody>\n",
       "</table>\n",
       "</div>"
      ],
      "text/plain": [
       "             MedInc      HouseAge      AveRooms     AveBedrms    Population  \\\n",
       "count  20640.000000  20640.000000  20640.000000  20640.000000  20640.000000   \n",
       "mean       3.870671     28.639486      5.429000      1.096675   1425.476744   \n",
       "std        1.899822     12.585558      2.474173      0.473911   1132.462122   \n",
       "min        0.499900      1.000000      0.846154      0.333333      3.000000   \n",
       "25%        2.563400     18.000000      4.440716      1.006079    787.000000   \n",
       "50%        3.534800     29.000000      5.229129      1.048780   1166.000000   \n",
       "75%        4.743250     37.000000      6.052381      1.099526   1725.000000   \n",
       "max       15.000100     52.000000    141.909091     34.066667  35682.000000   \n",
       "\n",
       "           AveOccup      Latitude     Longitude        target  \n",
       "count  20640.000000  20640.000000  20640.000000  20640.000000  \n",
       "mean       3.070655     35.631861   -119.569704      2.068558  \n",
       "std       10.386050      2.135952      2.003532      1.153956  \n",
       "min        0.692308     32.540000   -124.350000      0.149990  \n",
       "25%        2.429741     33.930000   -121.800000      1.196000  \n",
       "50%        2.818116     34.260000   -118.490000      1.797000  \n",
       "75%        3.282261     37.710000   -118.010000      2.647250  \n",
       "max     1243.333333     41.950000   -114.310000      5.000010  "
      ]
     },
     "execution_count": 5,
     "metadata": {},
     "output_type": "execute_result"
    }
   ],
   "source": [
    "# distribution of the data\n",
    "df.describe()"
   ]
  },
  {
   "cell_type": "code",
   "execution_count": 6,
   "metadata": {},
   "outputs": [],
   "source": [
    "# Separate the features and target variable\n",
    "X = data.data\n",
    "y = data.target"
   ]
  },
  {
   "attachments": {},
   "cell_type": "markdown",
   "metadata": {},
   "source": [
    "### Cross-validation"
   ]
  },
  {
   "cell_type": "code",
   "execution_count": 7,
   "metadata": {},
   "outputs": [
    {
     "data": {
      "text/plain": [
       "'Cross-Validation Scores:'"
      ]
     },
     "metadata": {},
     "output_type": "display_data"
    },
    {
     "data": {
      "text/plain": [
       "array([0.54866323, 0.46820691, 0.55078434, 0.53698703, 0.66051406])"
      ]
     },
     "metadata": {},
     "output_type": "display_data"
    },
    {
     "data": {
      "text/plain": [
       "'Average Score:'"
      ]
     },
     "metadata": {},
     "output_type": "display_data"
    },
    {
     "data": {
      "text/plain": [
       "0.5530311140279238"
      ]
     },
     "metadata": {},
     "output_type": "display_data"
    }
   ],
   "source": [
    "# Create a linear regression model\n",
    "model = LinearRegression(fit_intercept=True)\n",
    "\n",
    "# Perform cross-validation\n",
    "scores = cross_val_score(\n",
    "    model, X, y, cv=5\n",
    ")\n",
    "\n",
    "# [1, 2, 3, 4, 5]\n",
    "# [1, 2, 3, 4] + [5]\n",
    "# [1, 2, 3, 5] + [4]\n",
    "# [1, 2, 4, 5] + [3]\n",
    "# [1, 3, 4, 5] + [2]\n",
    "# [2, 3, 4, 5] + [1]\n",
    "\n",
    "display(\"Cross-Validation Scores:\", scores)\n",
    "\n",
    "mean_score = scores.mean()\n",
    "display(\"Average Score:\", mean_score)"
   ]
  },
  {
   "cell_type": "code",
   "execution_count": 8,
   "metadata": {},
   "outputs": [],
   "source": [
    "# help(cross_val_score)"
   ]
  },
  {
   "attachments": {},
   "cell_type": "markdown",
   "metadata": {},
   "source": [
    "### Training a model"
   ]
  },
  {
   "cell_type": "code",
   "execution_count": 9,
   "metadata": {},
   "outputs": [
    {
     "name": "stdout",
     "output_type": "stream",
     "text": [
      "Model Score: 0.6131130543489867\n"
     ]
    },
    {
     "data": {
      "text/plain": [
       "'Coefficients:'"
      ]
     },
     "metadata": {},
     "output_type": "display_data"
    },
    {
     "data": {
      "text/plain": [
       "array([ 4.36174851e-01,  9.51223955e-03, -1.04855171e-01,  6.11975815e-01,\n",
       "       -6.27854571e-06, -3.26410200e-03, -4.20874631e-01, -4.32325074e-01])"
      ]
     },
     "metadata": {},
     "output_type": "display_data"
    },
    {
     "data": {
      "text/plain": [
       "'Intercept:'"
      ]
     },
     "metadata": {},
     "output_type": "display_data"
    },
    {
     "data": {
      "text/plain": [
       "-36.67106913133661"
      ]
     },
     "metadata": {},
     "output_type": "display_data"
    }
   ],
   "source": [
    "# Split the data into training and testing sets\n",
    "X_train, X_test, y_train, y_test = train_test_split(\n",
    "    X, y,\n",
    "    test_size=0.3,\n",
    ")\n",
    "\n",
    "# Create a linear regression model\n",
    "model = LinearRegression()\n",
    "\n",
    "# Fit the model on the training set\n",
    "model.fit(X_train, y_train)\n",
    "\n",
    "# Evaluate the model on the testing set\n",
    "score = model.score(X_test, y_test)\n",
    "\n",
    "print(\"Model Score:\", score)\n",
    "\n",
    "coefficients = model.coef_\n",
    "intercept = model.intercept_\n",
    "display(\"Coefficients:\", coefficients)\n",
    "display(\"Intercept:\", intercept)"
   ]
  },
  {
   "cell_type": "code",
   "execution_count": 12,
   "metadata": {},
   "outputs": [
    {
     "name": "stdout",
     "output_type": "stream",
     "text": [
      "(6192,) (6192,) (6192,)\n"
     ]
    }
   ],
   "source": [
    "# inspect model residuals\n",
    "y_pred = model.predict(X_test)\n",
    "residuals = y_test - y_pred\n",
    "print(residuals.shape, y_test.shape, y_pred.shape)\n",
    "# sns.scatterplot(x=y_test, y=residuals)"
   ]
  },
  {
   "cell_type": "code",
   "execution_count": 18,
   "metadata": {},
   "outputs": [
    {
     "name": "stdout",
     "output_type": "stream",
     "text": [
      "Shapiro-Wilk Test: 0.000\n",
      "Residuals do not look Gaussian (reject H0)\n",
      "D’Agostino’s K^2 Test: 0.000\n",
      "Residuals do not look Gaussian (reject H0)\n"
     ]
    },
    {
     "name": "stderr",
     "output_type": "stream",
     "text": [
      "/usr/lib/python3/dist-packages/scipy/stats/_morestats.py:1761: UserWarning: p-value may not be accurate for N > 5000.\n",
      "  warnings.warn(\"p-value may not be accurate for N > 5000.\")\n"
     ]
    }
   ],
   "source": [
    "# diagnosis of model residuals\n",
    "from scipy.stats import shapiro\n",
    "from scipy.stats import normaltest\n",
    "\n",
    "# Shapiro-Wilk Test\n",
    "_, p = shapiro(residuals)\n",
    "\n",
    "print(f'Shapiro-Wilk Test: {p:.3f}')\n",
    "\n",
    "if p > 0.05:\n",
    "\n",
    "    print('Residuals look Gaussian (fail to reject H0)')\n",
    "\n",
    "else:\n",
    "\n",
    "    print('Residuals do not look Gaussian (reject H0)')\n",
    "\n",
    "# D’Agostino’s K^2 Test\n",
    "_, p = normaltest(residuals)\n",
    "\n",
    "print(f'D’Agostino’s K^2 Test: {p:.3f}')\n",
    "\n",
    "if p > 0.05:\n",
    "\n",
    "    print('Residuals look Gaussian (fail to reject H0)')\n",
    "\n",
    "else:\n",
    "\n",
    "    print('Residuals do not look Gaussian (reject H0)')\n"
   ]
  },
  {
   "attachments": {},
   "cell_type": "markdown",
   "metadata": {},
   "source": [
    "### Hyperparameter tuning"
   ]
  },
  {
   "cell_type": "code",
   "execution_count": 19,
   "metadata": {},
   "outputs": [
    {
     "name": "stdout",
     "output_type": "stream",
     "text": [
      "Best Hyperparameters: {'fit_intercept': True}\n",
      "Best Score: 0.5530311140279238\n"
     ]
    }
   ],
   "source": [
    "# Create a LinearRegression model\n",
    "model = LinearRegression()\n",
    "\n",
    "# Define the hyperparameters and their possible values\n",
    "param_grid = {\n",
    "    'fit_intercept': [True, False],\n",
    "}\n",
    "\n",
    "# Perform grid search cross-validation\n",
    "grid_search = GridSearchCV(model, param_grid, cv=5)\n",
    "grid_search.fit(X, y)\n",
    "\n",
    "# Get the best hyperparameters and best score\n",
    "best_params = grid_search.best_params_\n",
    "best_score = grid_search.best_score_\n",
    "\n",
    "print(\"Best Hyperparameters:\", best_params)\n",
    "print(\"Best Score:\", best_score)"
   ]
  },
  {
   "cell_type": "code",
   "execution_count": 22,
   "metadata": {},
   "outputs": [
    {
     "data": {
      "text/plain": [
       "array([0.55303111, 0.48771363])"
      ]
     },
     "execution_count": 22,
     "metadata": {},
     "output_type": "execute_result"
    }
   ],
   "source": [
    "grid_search.cv_results_['mean_test_score']"
   ]
  },
  {
   "cell_type": "code",
   "execution_count": 26,
   "metadata": {},
   "outputs": [],
   "source": [
    "# help(f_regression)"
   ]
  },
  {
   "cell_type": "code",
   "execution_count": 27,
   "metadata": {},
   "outputs": [
    {
     "name": "stdout",
     "output_type": "stream",
     "text": [
      "(20640, 3)\n",
      "Selected Features: ['MedInc', 'AveRooms', 'Latitude']\n",
      "Coefficients: [ 0.42788861 -0.0325405  -0.0434988 ]\n"
     ]
    }
   ],
   "source": [
    "# Load the California Housing dataset\n",
    "data = fetch_california_housing(as_frame=True)\n",
    "X = data.data\n",
    "y = data.target\n",
    "\n",
    "# Perform feature selection using SelectKBest\n",
    "selector = SelectKBest(score_func=f_regression, k=3)\n",
    "X_selected = selector.fit_transform(X, y)\n",
    "print(X_selected.shape)\n",
    "# Get the selected feature names\n",
    "selected_feature_names = X.columns[selector.get_support()].tolist()\n",
    "\n",
    "# Train a linear regression model with the selected features\n",
    "model = LinearRegression()\n",
    "model.fit(X_selected, y)\n",
    "\n",
    "# Print the selected feature names\n",
    "print(\"Selected Features:\", selected_feature_names)\n",
    "\n",
    "# Print the coefficients of the linear regression model\n",
    "print(\"Coefficients:\", model.coef_)\n"
   ]
  },
  {
   "cell_type": "code",
   "execution_count": 31,
   "metadata": {},
   "outputs": [
    {
     "name": "stdout",
     "output_type": "stream",
     "text": [
      "Help on function f_regression in module sklearn.feature_selection._univariate_selection:\n",
      "\n",
      "f_regression(X, y, *, center=True, force_finite=True)\n",
      "    Univariate linear regression tests returning F-statistic and p-values.\n",
      "    \n",
      "    Quick linear model for testing the effect of a single regressor,\n",
      "    sequentially for many regressors.\n",
      "    \n",
      "    This is done in 2 steps:\n",
      "    \n",
      "    1. The cross correlation between each regressor and the target is computed\n",
      "       using :func:`r_regression` as::\n",
      "    \n",
      "           E[(X[:, i] - mean(X[:, i])) * (y - mean(y))] / (std(X[:, i]) * std(y))\n",
      "    \n",
      "    2. It is converted to an F score and then to a p-value.\n",
      "    \n",
      "    :func:`f_regression` is derived from :func:`r_regression` and will rank\n",
      "    features in the same order if all the features are positively correlated\n",
      "    with the target.\n",
      "    \n",
      "    Note however that contrary to :func:`f_regression`, :func:`r_regression`\n",
      "    values lie in [-1, 1] and can thus be negative. :func:`f_regression` is\n",
      "    therefore recommended as a feature selection criterion to identify\n",
      "    potentially predictive feature for a downstream classifier, irrespective of\n",
      "    the sign of the association with the target variable.\n",
      "    \n",
      "    Furthermore :func:`f_regression` returns p-values while\n",
      "    :func:`r_regression` does not.\n",
      "    \n",
      "    Read more in the :ref:`User Guide <univariate_feature_selection>`.\n",
      "    \n",
      "    Parameters\n",
      "    ----------\n",
      "    X : {array-like, sparse matrix} of shape (n_samples, n_features)\n",
      "        The data matrix.\n",
      "    \n",
      "    y : array-like of shape (n_samples,)\n",
      "        The target vector.\n",
      "    \n",
      "    center : bool, default=True\n",
      "        Whether or not to center the data matrix `X` and the target vector `y`.\n",
      "        By default, `X` and `y` will be centered.\n",
      "    \n",
      "    force_finite : bool, default=True\n",
      "        Whether or not to force the F-statistics and associated p-values to\n",
      "        be finite. There are two cases where the F-statistic is expected to not\n",
      "        be finite:\n",
      "    \n",
      "        - when the target `y` or some features in `X` are constant. In this\n",
      "          case, the Pearson's R correlation is not defined leading to obtain\n",
      "          `np.nan` values in the F-statistic and p-value. When\n",
      "          `force_finite=True`, the F-statistic is set to `0.0` and the\n",
      "          associated p-value is set to `1.0`.\n",
      "        - when a feature in `X` is perfectly correlated (or\n",
      "          anti-correlated) with the target `y`. In this case, the F-statistic\n",
      "          is expected to be `np.inf`. When `force_finite=True`, the F-statistic\n",
      "          is set to `np.finfo(dtype).max` and the associated p-value is set to\n",
      "          `0.0`.\n",
      "    \n",
      "        .. versionadded:: 1.1\n",
      "    \n",
      "    Returns\n",
      "    -------\n",
      "    f_statistic : ndarray of shape (n_features,)\n",
      "        F-statistic for each feature.\n",
      "    \n",
      "    p_values : ndarray of shape (n_features,)\n",
      "        P-values associated with the F-statistic.\n",
      "    \n",
      "    See Also\n",
      "    --------\n",
      "    r_regression: Pearson's R between label/feature for regression tasks.\n",
      "    f_classif: ANOVA F-value between label/feature for classification tasks.\n",
      "    chi2: Chi-squared stats of non-negative features for classification tasks.\n",
      "    SelectKBest: Select features based on the k highest scores.\n",
      "    SelectFpr: Select features based on a false positive rate test.\n",
      "    SelectFdr: Select features based on an estimated false discovery rate.\n",
      "    SelectFwe: Select features based on family-wise error rate.\n",
      "    SelectPercentile: Select features based on percentile of the highest\n",
      "        scores.\n",
      "\n"
     ]
    }
   ],
   "source": [
    "help(f_regression)"
   ]
  },
  {
   "cell_type": "code",
   "execution_count": 30,
   "metadata": {},
   "outputs": [
    {
     "name": "stdout",
     "output_type": "stream",
     "text": [
      "k=1 - Selected Features: ['MedInc']\n",
      "Average Score (k=1): 0.42139707826944833\n",
      "k=2 - Selected Features: ['MedInc', 'AveRooms']\n",
      "Average Score (k=2): 0.42207514605561613\n",
      "k=3 - Selected Features: ['MedInc', 'AveRooms', 'Latitude']\n",
      "Average Score (k=3): 0.4178288726487363\n",
      "k=4 - Selected Features: ['MedInc', 'HouseAge', 'AveRooms', 'Latitude']\n",
      "Average Score (k=4): 0.4564269017875916\n",
      "k=5 - Selected Features: ['MedInc', 'HouseAge', 'AveRooms', 'AveBedrms', 'Latitude']\n",
      "Average Score (k=5): 0.48739925917614446\n",
      "k=6 - Selected Features: ['MedInc', 'HouseAge', 'AveRooms', 'AveBedrms', 'Latitude', 'Longitude']\n",
      "Average Score (k=6): 0.554960787917117\n",
      "k=7 - Selected Features: ['MedInc', 'HouseAge', 'AveRooms', 'AveBedrms', 'Population', 'Latitude', 'Longitude']\n",
      "Average Score (k=7): 0.5540782576426528\n",
      "k=8 - Selected Features: ['MedInc', 'HouseAge', 'AveRooms', 'AveBedrms', 'Population', 'AveOccup', 'Latitude', 'Longitude']\n",
      "Average Score (k=8): 0.5530311140279238\n"
     ]
    }
   ],
   "source": [
    "# List of values for k\n",
    "k_values = [1, 2, 3, 4, 5, 6, 7, 8]\n",
    "\n",
    "# Iterate over different values of k\n",
    "for k in k_values:\n",
    "    # Perform feature selection using SelectKBest\n",
    "    selector = SelectKBest(score_func=f_regression, k=k)\n",
    "    X_selected = selector.fit_transform(X, y)\n",
    "    selected_feature_names = X.columns[selector.get_support()].tolist()\n",
    "    print(f\"k={k} - Selected Features:\", selected_feature_names)\n",
    "\n",
    "    # Train a linear regression model with the selected features\n",
    "    model = LinearRegression()\n",
    "    scores = cross_val_score(model, X_selected, y, cv=5)\n",
    "\n",
    "    # Print the average score for the current value of k\n",
    "    print(f\"Average Score (k={k}):\", scores.mean())"
   ]
  },
  {
   "cell_type": "code",
   "execution_count": 32,
   "metadata": {},
   "outputs": [
    {
     "name": "stdout",
     "output_type": "stream",
     "text": [
      "R-squared score: 0.5957702326061662\n"
     ]
    }
   ],
   "source": [
    "# Load the California housing dataset\n",
    "data = fetch_california_housing(as_frame=True)\n",
    "X = data.data\n",
    "y = data.target\n",
    "\n",
    "# Split the dataset into training and testing sets\n",
    "X_train, X_test, y_train, y_test = train_test_split(\n",
    "    X, y, test_size=0.3, random_state=42\n",
    ")\n",
    "\n",
    "# Initialize the standard scaler\n",
    "scaler = StandardScaler()\n",
    "\n",
    "# Fit the scaler to the training data and transform the features\n",
    "X_train_scaled = scaler.fit_transform(X_train)\n",
    "X_test_scaled = scaler.transform(X_test)\n",
    "\n",
    "# Create a linear regression model\n",
    "model = LinearRegression()\n",
    "\n",
    "# Train the model on the scaled training data\n",
    "model.fit(X_train_scaled, y_train)\n",
    "\n",
    "# Evaluate the model on the scaled testing data\n",
    "score = model.score(X_test_scaled, y_test)\n",
    "print(\"R-squared score:\", score)\n"
   ]
  },
  {
   "cell_type": "code",
   "execution_count": 34,
   "metadata": {},
   "outputs": [],
   "source": [
    "# help(MinMaxScaler)"
   ]
  },
  {
   "cell_type": "code",
   "execution_count": 35,
   "metadata": {},
   "outputs": [
    {
     "name": "stdout",
     "output_type": "stream",
     "text": [
      "R-squared score: 0.5957702326061665\n"
     ]
    }
   ],
   "source": [
    "# Load the California housing dataset\n",
    "data = fetch_california_housing(as_frame=True)\n",
    "X = data.data\n",
    "y = data.target\n",
    "\n",
    "# Split the dataset into training and testing sets\n",
    "X_train, X_test, y_train, y_test = train_test_split(\n",
    "    X, y, test_size=0.3, random_state=42\n",
    ")\n",
    "\n",
    "# Initialize the standard scaler\n",
    "scaler = MinMaxScaler()\n",
    "\n",
    "# Fit the scaler to the training data and transform the features\n",
    "X_train_scaled = scaler.fit_transform(X_train)\n",
    "X_test_scaled = scaler.transform(X_test)\n",
    "\n",
    "# Create a linear regression model\n",
    "model = LinearRegression()\n",
    "\n",
    "# Train the model on the scaled training data\n",
    "model.fit(X_train_scaled, y_train)\n",
    "\n",
    "# Evaluate the model on the scaled testing data\n",
    "score = model.score(X_test_scaled, y_test)\n",
    "print(\"R-squared score:\", score)\n"
   ]
  },
  {
   "cell_type": "code",
   "execution_count": null,
   "metadata": {},
   "outputs": [],
   "source": []
  },
  {
   "cell_type": "code",
   "execution_count": null,
   "metadata": {},
   "outputs": [],
   "source": []
  },
  {
   "cell_type": "code",
   "execution_count": null,
   "metadata": {},
   "outputs": [],
   "source": [
    "# Load the California Housing dataset\n",
    "data = fetch_california_housing(as_frame=True)\n",
    "X = data.data\n",
    "y = data.target\n",
    "\n",
    "scaler = StandardScaler()\n",
    "X_scaled = scaler.fit_transform(X)\n",
    "\n",
    "# Perform feature selection using SelectKBest\n",
    "selector = SelectKBest(score_func=f_regression, k=3)\n",
    "X_selected = selector.fit_transform(X, y)\n",
    "\n",
    "# Get the selected feature names\n",
    "selected_feature_names = X.columns[selector.get_support()].tolist()\n",
    "\n",
    "# Train a linear regression model with the selected features\n",
    "model = LinearRegression()\n",
    "model.fit(X_selected, y)\n",
    "\n",
    "# Print the selected feature names\n",
    "print(\"Selected Features:\", selected_feature_names)\n",
    "\n",
    "# Print the coefficients of the linear regression model\n",
    "print(\"Coefficients:\", model.coef_)\n"
   ]
  },
  {
   "cell_type": "code",
   "execution_count": null,
   "metadata": {},
   "outputs": [],
   "source": [
    "# List of values for k\n",
    "k_values = [1, 2, 3, 4, 5, 6, 7, 8]\n",
    "\n",
    "# Iterate over different values of k\n",
    "for k in k_values:\n",
    "    # Perform feature selection using SelectKBest\n",
    "    selector = SelectKBest(score_func=f_regression, k=k)\n",
    "    X_selected = selector.fit_transform(X, y)\n",
    "    # Initialize the standard scaler\n",
    "    scaler = StandardScaler()\n",
    "\n",
    "    # Fit the scaler to the training data and transform the features\n",
    "    X_selected_scaled = scaler.fit_transform(X_selected)\n",
    "\n",
    "    # Train a linear regression model with the selected features\n",
    "    model = LinearRegression()\n",
    "    scores = cross_val_score(model, X_selected_scaled, y, cv=5)\n",
    "\n",
    "    # Print the average score for the current value of k\n",
    "    print(f\"Average Score (k={k}):\", scores.mean())"
   ]
  },
  {
   "cell_type": "code",
   "execution_count": null,
   "metadata": {},
   "outputs": [],
   "source": []
  }
 ],
 "metadata": {
  "kernelspec": {
   "display_name": "Python 3",
   "language": "python",
   "name": "python3"
  },
  "language_info": {
   "codemirror_mode": {
    "name": "ipython",
    "version": 3
   },
   "file_extension": ".py",
   "mimetype": "text/x-python",
   "name": "python",
   "nbconvert_exporter": "python",
   "pygments_lexer": "ipython3",
   "version": "3.10.6"
  },
  "orig_nbformat": 4
 },
 "nbformat": 4,
 "nbformat_minor": 2
}
